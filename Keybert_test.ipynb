{
 "cells": [
  {
   "cell_type": "code",
   "execution_count": 2,
   "id": "905c0439",
   "metadata": {},
   "outputs": [],
   "source": [
    "from keybert import KeyBERT\n",
    "from utils import DataUtils\n",
    "import pandas as pd\n",
    "import os"
   ]
  },
  {
   "cell_type": "code",
   "execution_count": 2,
   "id": "2f28b9a3",
   "metadata": {},
   "outputs": [],
   "source": [
    "kw_model = KeyBERT()"
   ]
  },
  {
   "cell_type": "code",
   "execution_count": 3,
   "id": "bf652f5b",
   "metadata": {},
   "outputs": [],
   "source": [
    "fname='en meta_list.xlsx'\n",
    "path=os.path.join('datasets',fname)"
   ]
  },
  {
   "cell_type": "code",
   "execution_count": 4,
   "id": "5c88f5cf",
   "metadata": {},
   "outputs": [],
   "source": [
    "df=pd.read_excel(path)"
   ]
  },
  {
   "cell_type": "code",
   "execution_count": 5,
   "id": "a8c1daf1",
   "metadata": {},
   "outputs": [],
   "source": [
    "client_id='A4Mceclx8PV864nLzpJA'\n",
    "client_secret='gSGhYL3Roj'\n",
    "utils=DataUtils(client_id,client_secret,path,fname)"
   ]
  },
  {
   "cell_type": "code",
   "execution_count": 6,
   "id": "770ad2fe",
   "metadata": {},
   "outputs": [],
   "source": [
    "from tqdm import tqdm"
   ]
  },
  {
   "cell_type": "code",
   "execution_count": 14,
   "id": "082beabf",
   "metadata": {
    "scrolled": true
   },
   "outputs": [
    {
     "name": "stdout",
     "output_type": "stream",
     "text": [
      "밤편지\n",
      "['사랑이라는 말', '의 반딧불.', '행방불명하다', '반딧불', '어웨이 필', '반딧불', '그리워해요', '내 일기', '사랑해요.', '매일 일기를 쓰다']\n",
      "모든 날, 모든 순간 (Every day, Every Moment)\n",
      "['웃을 수 있다', '웃어라', '눈꽃', '꽃이 피다', '없이 미소짓다', '스마일', '시시각각', '꽃과', '나는 웃는다', '플라워']\n",
      "첫눈처럼 너에게 가겠다\n",
      "['아름다운 꽃들', '행복해라', '행복해', '꽃이 핀다.', '처럼 외쳤다.', '축복의', '에 대한 축복.', '외쳤다', '암흑의 영원', '사랑하다']\n",
      "벚꽃 엔딩\n",
      "['꽃은', '꽃', '러브송', '벚꽃', '벚꽃', '거리를 같이 가다', '잎을 피우다', '꽃을 피우다', '보행 감각', '오 걸어가다']\n",
      "봄날\n",
      "['그리워해요', '그리움', '그리움', '간절히 바라다', '겨울은 이다', '여기서 겨울을 나다', '남은 설국열차', '시간 설국열차', '사진 미싱', '놓치다.']\n",
      "Shape of You\n",
      "['애인을 찾다', '너무 좋아', '처럼 노래부르기', '클럽은', '클럽', '클럽', '당신의 사랑.', '애인', '지금 노래하는', '을 사랑하다']\n",
      "너를 만나\n",
      "['사랑할 수 있다', '완전한 사랑', '사랑하다', '사랑해요.', '나를 껴안았다', '껴안았다', '넌 껴안았다', '냉랭한 관계', '그저 불안하기만 한', '행복해']\n",
      "너의 의미 (Feat. 김창완)\n",
      "['강경한 약속', '향기로운 바람', '향기로운', '향기로운', '너를 향하여', '너의 미소', '쓸쓸한 뒷모습', '당신의 말', '약속.', '네가 와라']\n",
      "2002\n",
      "['노래를 불렀다.', '와 함께 부르는 노래.', '노래하는 사랑', '젊은 노래', '우리는 노래했다', '불렀다', '노래들', '안녕히 계세요', '컵노래', '노래하는 것']\n",
      "I'm Not The Only One\n",
      "['맹세했다', '맹세하다', '을 맹세하다.', '미친 소리를 하다', '애정을 품다', '내 마음속 깊이', '끝나다', '부정하는 의심.', '눈물을 흘리다', '눈물 한 방울']\n"
     ]
    }
   ],
   "source": [
    "for title,lyric in zip((df['track_title'].iloc[:10]),df['lyric'].iloc[:10]):\n",
    "    print(title)\n",
    "    keywords=kw_model.extract_keywords(lyric, keyphrase_ngram_range=(1, 2), stop_words=None,top_n=10)\n",
    "    translated=[]\n",
    "    for word in keywords:\n",
    "        word=word[0]\n",
    "        word=utils.translate_word(word)\n",
    "        translated.append(word)\n",
    "    print(translated)"
   ]
  },
  {
   "cell_type": "code",
   "execution_count": 15,
   "id": "6286a698",
   "metadata": {},
   "outputs": [
    {
     "name": "stdout",
     "output_type": "stream",
     "text": [
      "야생화\n",
      "['빛나는 추억', '갈망하는 마음', '눈꽃이 피다', '나를 꽃피우다', '눈물이 흐르다', '꽃이 필 것이다', '꽃이 피다', '하얗게 핀', '잊혀짐', '플라워']\n",
      "흔들리는 꽃들 속에서 네 샴푸향이 느껴진거야\n",
      "['흔들리는 꽃들', '꽃들', '꽃들', '라는 꽃', '꽃은 할 수 있다', '꽃', '플라워', '기다리다', '꽃이 만발한', '때 걷는다']\n",
      "주저하는 연인들을 위해\n",
      "['쓸쓸한 마음', '사랑을 느끼다', '사랑의 의지', '꿈을 꿀 것이다', '이 좋다.', '꿈을 꾸고', '사랑하다', '꿈', '꿈을 꾸다', '위로를 받다']\n",
      "Someone Like You\n",
      "['나를 잊어라', '기억을 더듬다', '바라건대', '사랑에 빠져', '재혼한', '널 기억해', '사랑하지만', '사랑하다', '잊다', '기억해 달라고 간청했다']\n",
      "너의 모든 순간\n",
      "['이즈 러브', '만사를 기원하다', '너는 웃는다', '사랑하다', '바라건대', '내 마음', '모든 것에 감사하다', '원하신다면', '시시각각', '바라다']\n",
      "비도 오고 그래서 (Feat. 신용재)\n",
      "['비가 왔다', '비가 온다', '내 우산', '비가 와서', '비가 온', '서글프다', '비가 오는', '비가 너무 많이 와서', '뜻 좋은', '우산.']\n",
      "걱정말아요 그대\n",
      "['을 지나치다', '과거의', '노래하게 하다', '함께 노래하다', '간 것을 후회하다', '아픈 기억들', '후회한다', '추억은', '과거.', '과거']\n",
      "우주를 줄게\n",
      "['을 조종하다', '당신의 조종사', '별이 빛나다', '별빛을 띠다', '을 조종하다.', '을 별빛으로 비추다.', '라이팅 스타', '별빛', '은하 랄랄랄랄랄랄랄랄랄랄랄랄랄랄랄랄랄랄랄랄랄랄랄랄랄랄랄랄랄랄랄랄랄랄랄랄랄랄랄랄라', '별똥별']\n",
      "Beautiful\n",
      "['아름다운 인생', '아름다운 인생', '비통한 인생', '슬픈 인생', '아름답게 사랑하다', '기억력이 좋다', '아름다운 사랑', '슬픈 날', '이쁜아', '슬픔에 잠긴']\n"
     ]
    }
   ],
   "source": [
    "for title,lyric in zip((df['track_title'].iloc[11:20]),df['lyric'].iloc[11:20]):\n",
    "    print(title)\n",
    "    keywords=kw_model.extract_keywords(lyric, keyphrase_ngram_range=(1, 2), stop_words=None,top_n=10)\n",
    "    translated=[]\n",
    "    for word in keywords:\n",
    "        word=word[0]\n",
    "        word=utils.translate_word(word)\n",
    "        translated.append(word)\n",
    "    print(translated)"
   ]
  },
  {
   "cell_type": "code",
   "execution_count": 8,
   "id": "d6029c3f",
   "metadata": {},
   "outputs": [],
   "source": [
    "import pandas as pd"
   ]
  },
  {
   "cell_type": "code",
   "execution_count": 3,
   "id": "383d1875",
   "metadata": {},
   "outputs": [
    {
     "ename": "NameError",
     "evalue": "name 'utils' is not defined",
     "output_type": "error",
     "traceback": [
      "\u001b[0;31m---------------------------------------------------------------------------\u001b[0m",
      "\u001b[0;31mNameError\u001b[0m                                 Traceback (most recent call last)",
      "Input \u001b[0;32mIn [3]\u001b[0m, in \u001b[0;36m<cell line: 1>\u001b[0;34m()\u001b[0m\n\u001b[0;32m----> 1\u001b[0m df\u001b[38;5;241m=\u001b[39m\u001b[43mutils\u001b[49m\u001b[38;5;241m.\u001b[39mload_data(path)\n\u001b[1;32m      2\u001b[0m df2\u001b[38;5;241m=\u001b[39mpd\u001b[38;5;241m.\u001b[39mread_json(\u001b[38;5;124m'\u001b[39m\u001b[38;5;124mdatasets/meta_list.json\u001b[39m\u001b[38;5;124m'\u001b[39m)\n",
      "\u001b[0;31mNameError\u001b[0m: name 'utils' is not defined"
     ]
    }
   ],
   "source": [
    "df=utils.load_data(path)\n",
    "df2=pd.read_json('datasets/meta_list.json')"
   ]
  },
  {
   "cell_type": "code",
   "execution_count": 10,
   "id": "c4679d22",
   "metadata": {},
   "outputs": [
    {
     "name": "stderr",
     "output_type": "stream",
     "text": [
      "100%|███████████████████████████████████████████████████████████████████████| 1006/1006 [02:02<00:00,  8.21it/s]\n"
     ]
    }
   ],
   "source": [
    "df2=utils.clean(df2,'has_lyric')\n",
    "data=[]\n",
    "for translated,origin in zip(tqdm(df['lyric']),df2['lyric']):\n",
    "    lang=utils.translator.get_language_type(origin)\n",
    "    if lang=='en':\n",
    "        data.append(origin)\n",
    "    elif lang=='ko':\n",
    "        data.append(translated)\n",
    "    else:\n",
    "        print(lang)\n",
    "        data.append(translated)\n",
    "    "
   ]
  },
  {
   "cell_type": "code",
   "execution_count": 11,
   "id": "5c4b076a",
   "metadata": {},
   "outputs": [
    {
     "data": {
      "text/plain": [
       "1006"
      ]
     },
     "execution_count": 11,
     "metadata": {},
     "output_type": "execute_result"
    }
   ],
   "source": [
    "len(data)"
   ]
  },
  {
   "cell_type": "code",
   "execution_count": 12,
   "id": "8be99cca",
   "metadata": {},
   "outputs": [
    {
     "name": "stdout",
     "output_type": "stream",
     "text": [
      "Tonight, the fireflies of that night \n",
      "I'll send it close to your window\n",
      "I mean, I love you\n",
      "\n",
      "I remember our first kiss\n",
      "Then, close your eyes anytime \n",
      "Well, let's go to the furthest place\n",
      "\n",
      "I don't know where the waves stayed \n",
      "Like the writing on the sand\n",
      "You're far away \n",
      "I feel like I'm going to disappear \n",
      "I always miss you. I miss you\n",
      "\n",
      "Here in my heart \n",
      "Every word \n",
      "I can't take them all out\n",
      "It means I love you\n",
      "\n",
      "How can I \n",
      "Is your luck here?\n",
      "If we're together right now, \n",
      "How great would it be?\n",
      "\n",
      "I don't know where the waves stayed \n",
      "Like the writing on the sand\n",
      "You're far away \n",
      "I feel like I'm going to disappear\n",
      "I miss you again, I miss you more\n",
      "\n",
      "In my diary,\n",
      "Every word \n",
      "I can't take them all out\n",
      "The word \"I love you\"\n",
      "\n",
      "Tonight, the fireflies of that night \n",
      "Your\n",
      "I'll put it up close to the window\n",
      "Well, I hope you win the dream\n",
      "Can I smile without you?\n",
      "Just thinking about it makes me cry\n",
      "The person who protected me during the hard times\n",
      "I'll protect you from now on\n",
      "\n",
      "Your arms were always warm\n",
      "My only resting place in a tiring day \n",
      "\n",
      "You're enough for me\n",
      "Even if I don't say much, I know everything with my eyes\n",
      "A flower blooms and sets\n",
      "Every day, every moment, together\n",
      "\n",
      "It was shining like the sun\n",
      "Your eyes that look at me\n",
      "It's like a dream\n",
      "All those moments were dazzling\n",
      "\n",
      "In my troubled life,\n",
      "You came like a ray of light and made me smile \n",
      "\n",
      "You're enough for me\n",
      "Even if I don't say much, I know everything with my eyes\n",
      "A flower blooms and sets\n",
      "Every day, every moment, together\n",
      "\n",
      "It's an unknown future,\n",
      "The moment I'm in your arms, the moment,\n",
      "I hope it lasts forever \n",
      "\n",
      "I'll go on a windy day\n",
      "On a sunny day, to you\n",
      "Like the day that first came to me\n",
      "Every day, every moment, together\n",
      "I didn't know before I had you\n",
      "The world that I stayed in \n",
      "Something brilliant\n",
      "\n",
      "a person touched with a small breath\n",
      "The love that called me fearlessly\n",
      "\n",
      "It was very good\n",
      "I'm looking at you and I'm excited\n",
      "I was ridiculously jealous\n",
      "Every normal moment \n",
      "\n",
      "a dark eternity\n",
      "In that long wait,\n",
      "You got off like the sun\n",
      "\n",
      "I didn't know before I let you go\n",
      "The world that I stayed in \n",
      "a lonely thing \n",
      "\n",
      "This place where beautiful flowers bloom and fall\n",
      "The season that will never happen again\n",
      "\n",
      "I got greedy\n",
      "Live with you and grow old\n",
      "holding wrinkle hands together\n",
      "My life was warm \n",
      "\n",
      "a single blessing\n",
      "After that brief encounter,\n",
      "You cried like rain\n",
      "\n",
      "I want to be happy at least once \n",
      "That's what I wanted\n",
      "Did I make you cry?\n",
      "\n",
      "Everyone, forget about it and live\n",
      "I'll find you\n",
      "Your breath, again \n",
      "When you call me\n",
      "\n",
      "I won't forget\n",
      "I'm looking at you and I'm excited\n",
      "I was ridiculously jealous\n",
      "All the moments you gave me \n",
      "\n",
      "We'll meet one day\n",
      "The day we'll be happiest\n",
      "I'll go like the first snow\n",
      "\n",
      "I'll go to you\n",
      "You, you, you, you, you, you\n",
      "\n",
      "\n",
      "Let's walk this street together today\n",
      "What do you think about the lullaby at night? Oh yeah\n",
      "Holding hands with someone I didn't know\n",
      "I walk with this mysterious nervousness\n",
      "\n",
      "with the spring breeze flying \n",
      "The leaves of cherry blossoms are flying \n",
      "This street that will resonate\n",
      "Woo-woo, you two walk\n",
      "\n",
      "with the spring breeze flying\n",
      "The leaves of cherry blossoms are flying\n",
      "This street that will resonate\n",
      "Woo-woo, you two walk\n",
      "\n",
      "oh yeah\n",
      "\n",
      "Honey, let's hold hands on this street\n",
      "What do you think about the love song? Oh yeah\n",
      "I want to hold hands with you, whom I love you\n",
      "We walk this mysterious street together\n",
      "\n",
      "with the spring breeze flying \n",
      "The leaves of cherry blossoms are flying \n",
      "This street that will resonate\n",
      "Woo-woo, you two walk\n",
      "\n",
      "with the spring breeze flying\n",
      "The leaves of cherry blossoms are flying\n",
      "This street that will resonate\n",
      "Woo-woo, you two walk\n",
      "\n",
      "I feel nauseous when the wind blows \n",
      "When the wind blows, you keep overlapping on the other side\n",
      "Oh, I'm feeling nauseous again, so I don't\n",
      "When the wind blows, you keep overlapping on the other side\n",
      "\n",
      "You have a lot of lovers There are a lot of friends I don'\n",
      "There are a lot of cherry blossom leaves flying around I'd love to.\n",
      "\n",
      "with the spring breeze flying \n",
      "The leaves of cherry blossoms are flying \n",
      "This street that will resonate\n",
      "You two walk\n",
      "\n",
      "with the spring breeze flying\n",
      "The leaves of cherry blossoms are flying\n",
      "This street that will resonate\n",
      "You two walk. Oh yeah\n",
      "\n",
      "You, you, you, you, you, you\n",
      "I miss you like this \n",
      "Speaking of which, I miss you more\n",
      "Your pictures \n",
      "I miss you even when I see you\n",
      "\n",
      "It's too cold \n",
      "I hate us\n",
      "Now, even looking at your face\n",
      "We're having a hard time\n",
      "It's only winter here \n",
      "Winter comes in August, too\n",
      "\n",
      "My heart is running through time \n",
      "Snowpiercer Remaining Alone\n",
      "Holding your hand, Earth \n",
      "Go to the other side \n",
      "I want to end this winter\n",
      "\n",
      "The longing \n",
      "It should fall like snow \n",
      "Will that spring day come?\n",
      "Friend\n",
      "\n",
      "floating in the air \n",
      "Like a little dust \n",
      "Like a little dust\n",
      "If it were me, \n",
      "A little faster to you\n",
      "I think we can reach it's\n",
      "\n",
      "Snowflakes are falling\n",
      "It's getting farther away\n",
      "I miss you.\n",
      "I miss you.\n",
      "How long do I have to wait? \n",
      "I'll have to stay up a few more nights\n",
      "Will I ever see you? \n",
      "Will we meet?\n",
      "\n",
      "After the cold winter, \n",
      "Until spring comes again\n",
      "Until the flowers bloom \n",
      "Please stay there a little longer \n",
      "Stay with me\n",
      "\n",
      "I don't know if you've changed \n",
      "Or did I change?\n",
      "I hate even the time that flows at this moment \n",
      "We've changed \n",
      "It's like that for everyone\n",
      "\n",
      "Yeah, I hate you \n",
      "You're gone \n",
      "Even for a single day, \n",
      "I've never forgotten\n",
      "\n",
      "Honestly, I want to see it \n",
      "I'll erase you now\n",
      "Rather than blaming you, \n",
      "It doesn't hurt much\n",
      "\n",
      "I'm blowing you out of the cold \n",
      "Like smoke, like white smoke\n",
      "Even if you say you're going to erase it, \n",
      "Actually, I can't let you go yet\n",
      "\n",
      "Snowflakes are falling \n",
      "It's getting farther away\n",
      "I miss you. \n",
      "I miss you.\n",
      "How long do I have to wait? \n",
      "I'll have to stay up a few more nights\n",
      "Will I ever see you? \n",
      "Will we meet?\n",
      "\n",
      "You know it all \n",
      "You're my best friend \n",
      "Morning's gonna be back\n",
      "No darkness, no season, \n",
      "Because it can't last forever\n",
      "\n",
      "I guess cherry blossoms are blooming \n",
      "This winter is coming to an end\n",
      "I miss you. \n",
      "I miss you.\n",
      "If you wait a little bit, \n",
      "If I stay up for a few more nights,\n",
      "I'll go meet you\n",
      "I'll pick you up \n",
      "\n",
      "After the cold winter, \n",
      "Until spring comes again\n",
      "Until the flowers bloom \n",
      "Please stay there a little longer \n",
      "Stay with me\n",
      "The club isn't the best place to find a lover\r\n",
      "So the bar is where I go\r\n",
      "Me and my friends at the table doing shots\r\n",
      "Drinking fast and then we talk slow\r\n",
      "And you come over and start up a conversation with just me\r\n",
      "And trust me I'll give it a chance now\r\n",
      "Take my hand, stop, put Van the Man on the jukebox\r\n",
      "And then we start to dance, and now I'm singing like\r\n",
      "\r\n",
      "Girl, you know I want your love\r\n",
      "Your love was handmade for somebody like me\r\n",
      "Come on now, follow my lead\r\n",
      "I may be crazy, don't mind me\r\n",
      "Say, boy, let's not talk too much\r\n",
      "Grab on my waist and put that body on me\r\n",
      "Come on now, follow my lead\r\n",
      "Come, come on now, follow my lead\r\n",
      "\r\n",
      "I'm in love with the shape of you\r\n",
      "We push and pull like a magnet do\r\n",
      "Although my heart is falling too\r\n",
      "I'm in love with your body\r\n",
      "And last night you were in my room\r\n",
      "And now my bedsheets smell like you\r\n",
      "Every day discovering something brand new\r\n",
      "I'm in love with your body\r\n",
      "Oh-I-oh-I-oh-I-oh-I\r\n",
      "I'm in love with your body\r\n",
      "Oh-I-oh-I-oh-I-oh-I\r\n",
      "I'm in love with your body\r\n",
      "Oh-I-oh-I-oh-I-oh-I\r\n",
      "I'm in love with your body\r\n",
      "Every day discovering something brand new\r\n",
      "I'm in love with the shape of you\r\n",
      "\r\n",
      "One week in we let the story begin\r\n",
      "We're going out on our first date\r\n",
      "You and me are thrifty, so go all you can eat\r\n",
      "Fill up your bag and I fill up a plate\r\n",
      "We talk for hours and hours about the sweet and the sour\r\n",
      "And how your family is doing okay\r\n",
      "Leave and get in a taxi, then kiss in the backseat\r\n",
      "Tell the driver make the radio play, and I'm singing like\r\n",
      "\r\n",
      "Girl, you know I want your love\r\n",
      "Your love was handmade for somebody like me\r\n",
      "Come on now, follow my lead\r\n",
      "I may be crazy, don't mind me\r\n",
      "Say, boy, let's not talk too much\r\n",
      "Grab on my waist and put that body on me\r\n",
      "Come on now, follow my lead\r\n",
      "Come, come on now, follow my lead\r\n",
      "\r\n",
      "I'm in love with the shape of you\r\n",
      "We push and pull like a magnet do\r\n",
      "Although my heart is falling too\r\n",
      "I'm in love with your body\r\n",
      "And last night you were in my room\r\n",
      "And now my bedsheets smell like you\r\n",
      "Every day discovering something brand new\r\n",
      "I'm in love with your body\r\n",
      "Oh-I-oh-I-oh-I-oh-I\r\n",
      "I'm in love with your body\r\n",
      "Oh-I-oh-I-oh-I-oh-I\r\n",
      "I'm in love with your body\r\n",
      "Oh-I-oh-I-oh-I-oh-I\r\n",
      "I'm in love with your body\r\n",
      "Every day discovering something brand new\r\n",
      "I'm in love with the shape of you\r\n",
      "\r\n",
      "Come on, be my baby, come on\r\n",
      "Come on, be my baby, come on\r\n",
      "Come on, be my baby, come on\r\n",
      "Come on, be my baby, come on\r\n",
      "Come on, be my baby, come on\r\n",
      "Come on, be my baby, come on\r\n",
      "Come on, be my baby, come on\r\n",
      "Come on, be my baby, come on\r\n",
      "\r\n",
      "I'm in love with the shape of you\r\n",
      "We push and pull like a magnet do\r\n",
      "Although my heart is falling too\r\n",
      "I'm in love with your body\r\n",
      "Last night you were in my room\r\n",
      "And now my bedsheets smell like you\r\n",
      "Every day discovering something brand new\r\n",
      "I'm in love with your body\r\n",
      "Come on, be my baby, come on\r\n",
      "Come on, be my baby, come on\r\n",
      "I'm in love with your body\r\n",
      "Come on, be my baby, come on\r\n",
      "Come on, be my baby, come on\r\n",
      "I'm in love with your body\r\n",
      "Come on, be my baby, come on\r\n",
      "Come on, be my baby, come on\r\n",
      "I'm in love with your body\r\n",
      "Every day discovering something brand new\r\n",
      "I'm in love with the shape of you\n",
      "Ever since I met you,\n",
      "I'm happy with the little changes\n",
      "a dazzling morning\n",
      "A day when I open my eyes thinking of you\n",
      "Sitting across the table\n",
      "Ask me how your day was\n",
      "My day was pretty good, too\n",
      "I want to smile and answer\n",
      "When you can relate to something,\n",
      "It was amazing that we got used to each other\n",
      "I love you.\n",
      "Just like now, when it's peaceful\n",
      "I want to be forever\n",
      "I thought while looking at you\n",
      "I was so happy to meet you\n",
      "The reason I could love this much\n",
      "My heart that's still young and lacking\n",
      "He hugged me with a warm understanding \n",
      "When we're sick with our indifferent speech,\n",
      "a cold relationship\n",
      "I can't stand it. I'm sorry\n",
      "Even if I'm anxious right now,\n",
      "I want to be forever\n",
      "I thought while looking at you\n",
      "I was so happy to meet you\n",
      "The reason I could love this much\n",
      "My heart that's still young and lacking\n",
      "He hugged me with a warm understanding\n",
      "After the hot summer,\n",
      "The sound of rain that you'll miss\n",
      "One, two, shy. If you blush again,\n",
      "I'll kiss your eyes when you have a lot on your mind\n",
      "Let's walk together\n",
      "Are you happy to meet me?\n",
      "I'm sorry that I couldn't do more for you\n",
      "I'm selfish and anxious\n",
      "I just wanted to be nice to you\n",
      "You've been waiting for me for a long time\n",
      "I think I found a perfect love\n",
      "Hold me and be my strengthWest\n",
      "You hugged me with your precious consideration\n",
      "I met you\n",
      "Your words and your smile\n",
      "It means a lot to me \n",
      "\n",
      "Even your small eyes\n",
      "Even that lonely backside is a hard promise to me\n",
      "\n",
      "Everything about you comes to me\n",
      "It's an unsolved mystery\n",
      "\n",
      "Grief blooms at Cosmos of the Simple Station\n",
      "You're a fragrant wind that's passed by\n",
      "\n",
      "I'm going to build a castle on top of the cloud\n",
      "A window that lowers the wind towards you\n",
      "\n",
      "Your words and your smile\n",
      "It means a lot to me\n",
      "Even your small eyes\n",
      "Even that lonely backside is a hard promise to me\n",
      "\n",
      "Everything about you comes to me\n",
      "It's an unsolved mystery\n",
      "\n",
      "Grief blooms at Cosmos of the Simple Station\n",
      "You're a fragrant wind that's passed by\n",
      "I'm going to build a castle on top of the cloud\n",
      "A window that lowers the wind towards you\n",
      "\n",
      "Your words and your smile\n",
      "It means a lot to me\n",
      "Even your small eyes\n",
      "Even that lonely backside is a hard promise to me\n",
      "I will always remember\r\n",
      "The day you kissed my lips\r\n",
      "Light as a feather\r\n",
      "And it went just like this\r\n",
      "No, it's never been better\r\n",
      "Than the summer of 2002 (ooh)\r\n",
      "Uh, we were only eleven\r\n",
      "But acting like grown-ups\r\n",
      "Like we are in the present\r\n",
      "Drinking from plastic cups\r\n",
      "Singing, \"Love is forever and ever\"\r\n",
      "Well, I guess that was true\r\n",
      "\r\n",
      "(Ooh)\r\n",
      "\r\n",
      "Dancing on the hood in the middle of the woods\r\n",
      "On an old Mustang, where we sang\r\n",
      "Songs with all our childhood friends\r\n",
      "And it went like this, say\r\n",
      "\r\n",
      "Oops, I got 99 problems singing bye, bye, bye\r\n",
      "Hold up, if you wanna go and take a ride with me\r\n",
      "Better hit me, baby, one more time, uh\r\n",
      "Paint a picture for you and me\r\n",
      "On the days when we were young, uh\r\n",
      "Singing at the top of both our lungs\r\n",
      "\r\n",
      "Now we're under the covers\r\n",
      "Fast forward to eighteen\r\n",
      "We are more than lovers\r\n",
      "Yeah, we are all we need\r\n",
      "When we're holding each other\r\n",
      "I'm taken back to 2002 (ooh)\r\n",
      "Yeah\r\n",
      "\r\n",
      "Dancing on the hood in the middle of the woods\r\n",
      "On an old Mustang, where we sang\r\n",
      "Songs with all our childhood friends\r\n",
      "And it went like this, say\r\n",
      "\r\n",
      "Oops, I got 99 problems singing bye, bye, bye\r\n",
      "Hold up, if you wanna go and take a ride with me\r\n",
      "Better hit me, baby, one more time, uh\r\n",
      "Paint a picture for you and me\r\n",
      "On the days when we were young, uh\r\n",
      "Singing at the top of both our lungs\r\n",
      "On the day we fell in love\r\n",
      "Ooh ooh, ooh ooh\r\n",
      "On the day we fell in love\r\n",
      "Ooh ooh, ooh ooh\r\n",
      "\r\n",
      "Dancing on the hood in the middle of the woods\r\n",
      "On an old Mustang, where we sang\r\n",
      "Songs with all our childhood friends\r\n",
      "Oh, now\r\n",
      "\r\n",
      "Oops, I got 99 problems singing bye, bye, bye\r\n",
      "Hold up, if you wanna go and take a ride with me\r\n",
      "Better hit me, baby, one more time\r\n",
      "Paint a picture for you and me\r\n",
      "On the days when we were young\r\n",
      "Singing at the top of both our lungs\r\n",
      "On the day we fell in love\r\n",
      "Ooh ooh, ooh ooh\r\n",
      "On the day we fell in love\r\n",
      "Ooh ooh, ooh ooh\r\n",
      "On the day we fell in love\r\n",
      "Ooh ooh, ooh ooh\r\n",
      "On the day we fell in love\r\n",
      "Ooh ooh, ooh ooh\r\n",
      "On the day we fell in love, love, love\n",
      "You and me we made a vow\r\n",
      "For better or for worse\r\n",
      "I can't believe you let me down\r\n",
      "But the proof is in the way it hurts\r\n",
      "For months on end I've had my doubts\r\n",
      "Denying every tear\r\n",
      "I wish this would be over now\r\n",
      "But I know that I still need you here\r\n",
      "\r\n",
      "You say I'm crazy\r\n",
      "'Cause you don't think I know what you've done\r\n",
      "But when you call me baby\r\n",
      "I know I'm not the only one\r\n",
      "\r\n",
      "You've been so unavailable\r\n",
      "Now sadly I know why\r\n",
      "Your heart is unobtainable\r\n",
      "Even though Lord knows you kept mine\r\n",
      "\r\n",
      "You say I'm crazy\r\n",
      "'Cause you don't think I know what you've done\r\n",
      "But when you call me baby\r\n",
      "I know I'm not the only one\r\n",
      "\r\n",
      "I have loved you for many years\r\n",
      "Maybe I am just not enough\r\n",
      "You've made me realize my deepest fear\r\n",
      "By lying and tearing us up\r\n",
      "\r\n",
      "You say I'm crazy\r\n",
      "'Cause you don't think I know what you've done\r\n",
      "But when you call me baby\r\n",
      "I know I'm not the only one\r\n",
      "\r\n",
      "You say I'm crazy\r\n",
      "'Cause you don't think I know what you've done\r\n",
      "But when you call me baby\r\n",
      "I know I'm not the only one\r\n",
      "\r\n",
      "I know I'm not the only one\r\n",
      "I know I'm not the only one\r\n",
      "And I know, and I know, and I know\r\n",
      "And I know, and I know, and I know, know\r\n",
      "\r\n",
      "I know I'm not the only one\n"
     ]
    }
   ],
   "source": [
    "for i in data[:10]:\n",
    "    print(i)"
   ]
  },
  {
   "cell_type": "code",
   "execution_count": 13,
   "id": "6fb7267b",
   "metadata": {},
   "outputs": [],
   "source": [
    "df['lyric']=data"
   ]
  },
  {
   "cell_type": "code",
   "execution_count": 5,
   "id": "2c08b73c",
   "metadata": {},
   "outputs": [
    {
     "data": {
      "application/vnd.jupyter.widget-view+json": {
       "model_id": "517f0a0841244045a170fa4470400741",
       "version_major": 2,
       "version_minor": 0
      },
      "text/plain": [
       "Downloading:   0%|          | 0.00/690 [00:00<?, ?B/s]"
      ]
     },
     "metadata": {},
     "output_type": "display_data"
    },
    {
     "data": {
      "application/vnd.jupyter.widget-view+json": {
       "model_id": "23bd475c7b9e454fbd865a0d598dc1cd",
       "version_major": 2,
       "version_minor": 0
      },
      "text/plain": [
       "Downloading:   0%|          | 0.00/190 [00:00<?, ?B/s]"
      ]
     },
     "metadata": {},
     "output_type": "display_data"
    },
    {
     "data": {
      "application/vnd.jupyter.widget-view+json": {
       "model_id": "59e012c784844b9f93c0717b19583ac0",
       "version_major": 2,
       "version_minor": 0
      },
      "text/plain": [
       "Downloading:   0%|          | 0.00/3.77k [00:00<?, ?B/s]"
      ]
     },
     "metadata": {},
     "output_type": "display_data"
    },
    {
     "data": {
      "application/vnd.jupyter.widget-view+json": {
       "model_id": "c47e7319cd654f75bb0a2f402513092f",
       "version_major": 2,
       "version_minor": 0
      },
      "text/plain": [
       "Downloading:   0%|          | 0.00/723 [00:00<?, ?B/s]"
      ]
     },
     "metadata": {},
     "output_type": "display_data"
    },
    {
     "data": {
      "application/vnd.jupyter.widget-view+json": {
       "model_id": "640e582189f948d9809dc108d412e3ae",
       "version_major": 2,
       "version_minor": 0
      },
      "text/plain": [
       "Downloading:   0%|          | 0.00/122 [00:00<?, ?B/s]"
      ]
     },
     "metadata": {},
     "output_type": "display_data"
    },
    {
     "data": {
      "application/vnd.jupyter.widget-view+json": {
       "model_id": "5429ca13737c4946859173318e87f143",
       "version_major": 2,
       "version_minor": 0
      },
      "text/plain": [
       "Downloading:   0%|          | 0.00/1.11G [00:00<?, ?B/s]"
      ]
     },
     "metadata": {},
     "output_type": "display_data"
    },
    {
     "data": {
      "application/vnd.jupyter.widget-view+json": {
       "model_id": "6caa54c2e5b445f391768663a97a5b5d",
       "version_major": 2,
       "version_minor": 0
      },
      "text/plain": [
       "Downloading:   0%|          | 0.00/53.0 [00:00<?, ?B/s]"
      ]
     },
     "metadata": {},
     "output_type": "display_data"
    },
    {
     "data": {
      "application/vnd.jupyter.widget-view+json": {
       "model_id": "6bc4054786104c198cf22885761494b5",
       "version_major": 2,
       "version_minor": 0
      },
      "text/plain": [
       "Downloading:   0%|          | 0.00/5.07M [00:00<?, ?B/s]"
      ]
     },
     "metadata": {},
     "output_type": "display_data"
    },
    {
     "data": {
      "application/vnd.jupyter.widget-view+json": {
       "model_id": "21b53f3490b347cb9699bf991137f3d8",
       "version_major": 2,
       "version_minor": 0
      },
      "text/plain": [
       "Downloading:   0%|          | 0.00/239 [00:00<?, ?B/s]"
      ]
     },
     "metadata": {},
     "output_type": "display_data"
    },
    {
     "data": {
      "application/vnd.jupyter.widget-view+json": {
       "model_id": "c8d519f09353485ebf2dd43fc037ff10",
       "version_major": 2,
       "version_minor": 0
      },
      "text/plain": [
       "Downloading:   0%|          | 0.00/9.08M [00:00<?, ?B/s]"
      ]
     },
     "metadata": {},
     "output_type": "display_data"
    },
    {
     "data": {
      "application/vnd.jupyter.widget-view+json": {
       "model_id": "94a56074eb93449e89ff24e8de8e8aba",
       "version_major": 2,
       "version_minor": 0
      },
      "text/plain": [
       "Downloading:   0%|          | 0.00/402 [00:00<?, ?B/s]"
      ]
     },
     "metadata": {},
     "output_type": "display_data"
    },
    {
     "data": {
      "application/vnd.jupyter.widget-view+json": {
       "model_id": "1bba9e68f51d4b63a338fe272687a928",
       "version_major": 2,
       "version_minor": 0
      },
      "text/plain": [
       "Downloading:   0%|          | 0.00/229 [00:00<?, ?B/s]"
      ]
     },
     "metadata": {},
     "output_type": "display_data"
    }
   ],
   "source": [
    "kw_model = KeyBERT('paraphrase-multilingual-mpnet-base-v2')"
   ]
  },
  {
   "cell_type": "code",
   "execution_count": 4,
   "id": "2be04bf8",
   "metadata": {},
   "outputs": [],
   "source": [
    "df=pd.read_json('datasets/meta_list.json')"
   ]
  },
  {
   "cell_type": "code",
   "execution_count": 6,
   "id": "924057cd",
   "metadata": {},
   "outputs": [
    {
     "name": "stdout",
     "output_type": "stream",
     "text": [
      "밤편지\n",
      "[('사랑한다는 그날의', 0.7275), ('보낼게요 사랑한다는', 0.6816), ('사랑한다는 말이에요', 0.6745), ('사랑한다는', 0.6615), ('우리의 입맞춤을', 0.6276), ('없지만 사랑한다는', 0.6238), ('함께 있다면', 0.6224), ('반딧불을 당신의', 0.6215), ('어떻게 나에게', 0.5882), ('그날의 반딧불을', 0.5753)]\n",
      "모든 날, 모든 순간 (Every day, Every Moment)\n",
      "[('날에 너에게로', 0.6061), ('함께해 햇살처럼', 0.6033), ('네가 없이', 0.6011), ('내게 왔던', 0.593), ('영원 했으면', 0.5743), ('순간 함께해', 0.5694), ('왔던 그날처럼', 0.5548), ('없이 웃을', 0.5537), ('웃을 있을까', 0.5479), ('날에 햇살', 0.5441)]\n",
      "첫눈처럼 너에게 가겠다\n",
      "[('불러준 사랑', 0.6508), ('그날 첫눈처럼', 0.5922), ('싶었던 바람', 0.5839), ('사랑 몹시도', 0.5756), ('울었다 한번쯤은', 0.5638), ('첫눈처럼 내가', 0.5622), ('햇살처럼 니가', 0.5562), ('했던 니가', 0.5303), ('싶었던', 0.5246), ('사랑', 0.5244)]\n",
      "벚꽃 엔딩\n",
      "[('같이 걸어요', 0.721), ('둘이 걸어요', 0.704), ('걸어요 바람', 0.6644), ('걸어요 봄바람', 0.6555), ('걸어요 오예', 0.6449), ('자장노래 어떤가요', 0.6359), ('걸어요 거리를', 0.627), ('들려오는 자장노래', 0.6193), ('노래 어떤가요', 0.6192), ('걸어요', 0.6087)]\n",
      "봄날\n",
      "[('겨울이 마음은', 0.7504), ('눈이 나라면', 0.7288), ('겨울을 끝내고파', 0.722), ('얼마나 눈처럼', 0.7008), ('겨울 끝을', 0.6999), ('반대편까지 겨울을', 0.6975), ('눈처럼 내려야', 0.689), ('눈처럼', 0.6879), ('겨울도 끝이', 0.6747), ('갈게 추운', 0.6721)]\n",
      "Shape of You\n",
      "[('the club', 0.4934), ('club isn', 0.4767), ('to dance', 0.4761), ('bar is', 0.4659), ('club', 0.4632), ('the bar', 0.4609), ('lover so', 0.4454), ('dance and', 0.4386), ('lover', 0.4374), ('singing like', 0.4335)]\n",
      "너를 만나\n",
      "[('사랑할 있었던', 0.7388), ('만난 이후로', 0.7295), ('만나 행복했어', 0.7185), ('너를 만난', 0.7068), ('생각했어 너를', 0.6723), ('안아줘서 무심한', 0.6501), ('안아줘서 너를', 0.6432), ('하루는 어땠는지', 0.6401), ('사랑해 평온한', 0.6339), ('어땠는지 묻거나', 0.6291)]\n",
      "너의 의미 (Feat. 김창완)\n",
      "[('말도 웃음도', 0.6657), ('웃음도 나에겐', 0.6543), ('너의 마디', 0.6325), ('웃음도', 0.6296), ('향긋한', 0.5879), ('되네 슬픔은', 0.5782), ('작은 눈빛도', 0.5749), ('의미 너의', 0.5651), ('너의', 0.5626), ('마디 말도', 0.5565)]\n",
      "2002\n",
      "[('you kissed', 0.6064), ('we sang', 0.5778), ('kissed my', 0.5193), ('went like', 0.5166), ('singing love', 0.5114), ('kissed', 0.5028), ('sang', 0.4878), ('sang songs', 0.4814), ('love ooh', 0.4783), ('uh singing', 0.4575)]\n",
      "I'm Not The Only One\n",
      "[('made vow', 0.5207), ('loved you', 0.5118), ('your heart', 0.5117), ('vow for', 0.4657), ('have loved', 0.4495), ('and me', 0.4467), ('tear wish', 0.4375), ('vow', 0.4354), ('you let', 0.4346), ('made me', 0.4269)]\n"
     ]
    }
   ],
   "source": [
    "for title,lyric in zip((df['track_title'].iloc[:10]),df['lyric'].iloc[:10]):\n",
    "    print(title)\n",
    "    keywords=kw_model.extract_keywords(lyric, keyphrase_ngram_range=(1, 2), stop_words=None,top_n=10)\n",
    "    print(keywords)"
   ]
  },
  {
   "cell_type": "code",
   "execution_count": 7,
   "id": "eff957aa",
   "metadata": {},
   "outputs": [
    {
     "data": {
      "application/vnd.jupyter.widget-view+json": {
       "model_id": "29a7ea1ad2834dc6bde6a7aca00701f0",
       "version_major": 2,
       "version_minor": 0
      },
      "text/plain": [
       "Downloading:   0%|          | 0.00/690 [00:00<?, ?B/s]"
      ]
     },
     "metadata": {},
     "output_type": "display_data"
    },
    {
     "data": {
      "application/vnd.jupyter.widget-view+json": {
       "model_id": "5f0036c2067c4c7eb0727b9f024853a3",
       "version_major": 2,
       "version_minor": 0
      },
      "text/plain": [
       "Downloading:   0%|          | 0.00/190 [00:00<?, ?B/s]"
      ]
     },
     "metadata": {},
     "output_type": "display_data"
    },
    {
     "data": {
      "application/vnd.jupyter.widget-view+json": {
       "model_id": "1ee005cf3cc543369c12d88dde943ad0",
       "version_major": 2,
       "version_minor": 0
      },
      "text/plain": [
       "Downloading:   0%|          | 0.00/114 [00:00<?, ?B/s]"
      ]
     },
     "metadata": {},
     "output_type": "display_data"
    },
    {
     "data": {
      "application/vnd.jupyter.widget-view+json": {
       "model_id": "0adaae47ce9d4c3fa961b9a489a659ee",
       "version_major": 2,
       "version_minor": 0
      },
      "text/plain": [
       "Downloading:   0%|          | 0.00/1.58M [00:00<?, ?B/s]"
      ]
     },
     "metadata": {},
     "output_type": "display_data"
    },
    {
     "data": {
      "application/vnd.jupyter.widget-view+json": {
       "model_id": "973ec6b8601e4f50bb81b85146da7bef",
       "version_major": 2,
       "version_minor": 0
      },
      "text/plain": [
       "Downloading:   0%|          | 0.00/2.38k [00:00<?, ?B/s]"
      ]
     },
     "metadata": {},
     "output_type": "display_data"
    },
    {
     "data": {
      "application/vnd.jupyter.widget-view+json": {
       "model_id": "a0e6c42cbfc44840925fbc44736d406e",
       "version_major": 2,
       "version_minor": 0
      },
      "text/plain": [
       "Downloading:   0%|          | 0.00/610 [00:00<?, ?B/s]"
      ]
     },
     "metadata": {},
     "output_type": "display_data"
    },
    {
     "data": {
      "application/vnd.jupyter.widget-view+json": {
       "model_id": "ac9b8ea1f53f4c3aac0faf441f653074",
       "version_major": 2,
       "version_minor": 0
      },
      "text/plain": [
       "Downloading:   0%|          | 0.00/122 [00:00<?, ?B/s]"
      ]
     },
     "metadata": {},
     "output_type": "display_data"
    },
    {
     "data": {
      "application/vnd.jupyter.widget-view+json": {
       "model_id": "62465b1d1b4747c1a2ec608adbf051d2",
       "version_major": 2,
       "version_minor": 0
      },
      "text/plain": [
       "Downloading:   0%|          | 0.00/539M [00:00<?, ?B/s]"
      ]
     },
     "metadata": {},
     "output_type": "display_data"
    },
    {
     "data": {
      "application/vnd.jupyter.widget-view+json": {
       "model_id": "f496136f7dec46bdabaa47719ad40f98",
       "version_major": 2,
       "version_minor": 0
      },
      "text/plain": [
       "Downloading:   0%|          | 0.00/53.0 [00:00<?, ?B/s]"
      ]
     },
     "metadata": {},
     "output_type": "display_data"
    },
    {
     "data": {
      "application/vnd.jupyter.widget-view+json": {
       "model_id": "87ad2c318b854e6dbb936e5cb6920348",
       "version_major": 2,
       "version_minor": 0
      },
      "text/plain": [
       "Downloading:   0%|          | 0.00/112 [00:00<?, ?B/s]"
      ]
     },
     "metadata": {},
     "output_type": "display_data"
    },
    {
     "data": {
      "application/vnd.jupyter.widget-view+json": {
       "model_id": "9a59b6d0f5d0430e84a5b07515103e69",
       "version_major": 2,
       "version_minor": 0
      },
      "text/plain": [
       "Downloading:   0%|          | 0.00/1.96M [00:00<?, ?B/s]"
      ]
     },
     "metadata": {},
     "output_type": "display_data"
    },
    {
     "data": {
      "application/vnd.jupyter.widget-view+json": {
       "model_id": "f0bac0b3f17a4a96a530c6fc9c247b16",
       "version_major": 2,
       "version_minor": 0
      },
      "text/plain": [
       "Downloading:   0%|          | 0.00/531 [00:00<?, ?B/s]"
      ]
     },
     "metadata": {},
     "output_type": "display_data"
    },
    {
     "data": {
      "application/vnd.jupyter.widget-view+json": {
       "model_id": "e5ea5ddf59e541c38c698abe2c4ce05b",
       "version_major": 2,
       "version_minor": 0
      },
      "text/plain": [
       "Downloading:   0%|          | 0.00/996k [00:00<?, ?B/s]"
      ]
     },
     "metadata": {},
     "output_type": "display_data"
    },
    {
     "data": {
      "application/vnd.jupyter.widget-view+json": {
       "model_id": "52d7b81805614ea28890374d5069ee82",
       "version_major": 2,
       "version_minor": 0
      },
      "text/plain": [
       "Downloading:   0%|          | 0.00/341 [00:00<?, ?B/s]"
      ]
     },
     "metadata": {},
     "output_type": "display_data"
    }
   ],
   "source": [
    "kw_model = KeyBERT('distiluse-base-multilingual-cased-v2')"
   ]
  },
  {
   "cell_type": "code",
   "execution_count": 8,
   "id": "6d80d728",
   "metadata": {},
   "outputs": [
    {
     "name": "stdout",
     "output_type": "stream",
     "text": [
      "밤편지\n",
      "[('사랑한다는 그날의', 0.3436), ('사랑한다는 말이에요', 0.3197), ('사랑한다는', 0.3048), ('반딧불을 당신의', 0.2921), ('없지만 사랑한다는', 0.2882), ('그날의 반딧불을', 0.2874), ('보낼게요 사랑한다는', 0.2837), ('그리워 나의', 0.2584), ('그리워 여기', 0.2548), ('반딧불을', 0.254)]\n",
      "모든 날, 모든 순간 (Every day, Every Moment)\n",
      "[('없이 웃을', 0.3522), ('다가와 웃게', 0.3327), ('웃을 있을까', 0.321), ('날에 햇살', 0.3133), ('나의 하루에', 0.2948), ('날에 너에게로', 0.2924), ('하루에 유일한', 0.2748), ('햇살 눈부신', 0.2686), ('함께해 햇살처럼', 0.2618), ('웃게 해준', 0.2606)]\n",
      "첫눈처럼 너에게 가겠다\n",
      "[('사랑 몹시도', 0.2766), ('너라는 계절', 0.2561), ('햇살처럼 니가', 0.2315), ('너까지 울게', 0.2227), ('계절 욕심이', 0.2143), ('울게 만들었을까', 0.202), ('너에게 내가', 0.2014), ('사랑', 0.1951), ('알지 못했다', 0.1935), ('너는 울었다', 0.1931)]\n",
      "벚꽃 엔딩\n",
      "[('벚꽃 잎이', 0.3463), ('봄바람 휘날리며', 0.3421), ('잎이 울려', 0.3154), ('흩날리는 벚꽃', 0.2815), ('거리를 우우', 0.2496), ('잎이', 0.2452), ('걸어요 봄바람', 0.2408), ('벚꽃', 0.2368), ('오늘은 우리', 0.2288), ('잎이 많군요', 0.2285)]\n",
      "봄날\n",
      "[('반대편까지 겨울을', 0.359), ('겨울도 끝이', 0.3498), ('겨울을 끝내고파', 0.3398), ('겨울 끝을', 0.3356), ('겨울 뿐이야', 0.3346), ('겨울이 마음은', 0.3216), ('8월에도 겨울이', 0.321), ('온통 겨울', 0.3142), ('겨울도', 0.3099), ('추운 겨울', 0.3032)]\n",
      "Shape of You\n",
      "[('club isn', 0.3488), ('the club', 0.3174), ('club', 0.3122), ('find lover', 0.2127), ('the bar', 0.212), ('bar is', 0.1999), ('now singing', 0.1986), ('to dance', 0.1899), ('dance and', 0.1897), ('my hand', 0.1868)]\n",
      "너를 만나\n",
      "[('만나 행복했어', 0.3542), ('너도 행복하니', 0.3467), ('너의 하루는', 0.3333), ('하루 식탁', 0.3246), ('변화들에 행복해져', 0.313), ('아침 너를', 0.3012), ('행복하니 해준', 0.2914), ('나의 하루도', 0.2875), ('행복해져 눈이', 0.2867), ('행복하니', 0.2853)]\n",
      "너의 의미 (Feat. 김창완)\n",
      "[('창을 너의', 0.3776), ('웃음도 나에겐', 0.3544), ('드는 창을', 0.3123), ('약속 너의', 0.3108), ('창을 내리', 0.3093), ('향해 창을', 0.3079), ('말도 웃음도', 0.2661), ('창을', 0.2552), ('웃음도', 0.248), ('너의 모든', 0.2405)]\n",
      "2002\n",
      "[('always remember', 0.3236), ('singing love', 0.2854), ('our childhood', 0.282), ('kissed', 0.2678), ('lips light', 0.263), ('kissed my', 0.2584), ('you kissed', 0.2404), ('remember', 0.2359), ('love ooh', 0.2321), ('2002 ooh', 0.2313)]\n",
      "I'm Not The Only One\n",
      "[('tear wish', 0.2446), ('your heart', 0.2385), ('loved you', 0.2241), ('every tear', 0.205), ('believe you', 0.1999), ('me baby', 0.1989), ('the proof', 0.1922), ('proof is', 0.1875), ('heart is', 0.1813), ('baby know', 0.1751)]\n"
     ]
    }
   ],
   "source": [
    "for title,lyric in zip((df['track_title'].iloc[:10]),df['lyric'].iloc[:10]):\n",
    "    print(title)\n",
    "    keywords=kw_model.extract_keywords(lyric, keyphrase_ngram_range=(1, 2), stop_words=None,top_n=10)\n",
    "    print(keywords)"
   ]
  },
  {
   "cell_type": "code",
   "execution_count": 11,
   "id": "08d03c20",
   "metadata": {},
   "outputs": [
    {
     "ename": "ImportError",
     "evalue": "cannot import name 'HFTransformerBackend' from 'keybert.backend' (/Users/insugang/miniforge3/envs/torch/lib/python3.8/site-packages/keybert/backend/__init__.py)",
     "output_type": "error",
     "traceback": [
      "\u001b[0;31m---------------------------------------------------------------------------\u001b[0m",
      "\u001b[0;31mImportError\u001b[0m                               Traceback (most recent call last)",
      "Input \u001b[0;32mIn [11]\u001b[0m, in \u001b[0;36m<cell line: 1>\u001b[0;34m()\u001b[0m\n\u001b[0;32m----> 1\u001b[0m \u001b[38;5;28;01mfrom\u001b[39;00m \u001b[38;5;21;01mkeybert\u001b[39;00m\u001b[38;5;21;01m.\u001b[39;00m\u001b[38;5;21;01mbackend\u001b[39;00m \u001b[38;5;28;01mimport\u001b[39;00m HFTransformerBackend\n\u001b[1;32m      2\u001b[0m \u001b[38;5;28;01mfrom\u001b[39;00m \u001b[38;5;21;01mtransformers\u001b[39;00m\u001b[38;5;21;01m.\u001b[39;00m\u001b[38;5;21;01mpipelines\u001b[39;00m \u001b[38;5;28;01mimport\u001b[39;00m pipeline\n\u001b[1;32m      3\u001b[0m hf_model\u001b[38;5;241m=\u001b[39mpipeline(\u001b[38;5;124m'\u001b[39m\u001b[38;5;124mfeature-exraction\u001b[39m\u001b[38;5;124m'\u001b[39m,model\u001b[38;5;241m=\u001b[39m\u001b[38;5;124m'\u001b[39m\u001b[38;5;124mskt/kobert-base-v1\u001b[39m\u001b[38;5;124m'\u001b[39m)\n",
      "\u001b[0;31mImportError\u001b[0m: cannot import name 'HFTransformerBackend' from 'keybert.backend' (/Users/insugang/miniforge3/envs/torch/lib/python3.8/site-packages/keybert/backend/__init__.py)"
     ]
    }
   ],
   "source": [
    "from keybert.backend import HFTransformerBackend\n",
    "from transformers.pipelines import pipeline\n",
    "hf_model=pipeline('feature-exraction',model='skt/kobert-base-v1')\n",
    "embedding_model=HFTransformerBAckend(hf_model)"
   ]
  },
  {
   "cell_type": "code",
   "execution_count": null,
   "id": "c7fc5a62",
   "metadata": {},
   "outputs": [],
   "source": [
    "for title,lyric in zip((df['track_title'].iloc[:10]),df['lyric'].iloc[:10]):\n",
    "    print(title)\n",
    "    keywords=kw_model.extract_keywords(lyric, keyphrase_ngram_range=(1, 2), stop_words=None,top_n=10)\n",
    "    print(keywords)"
   ]
  },
  {
   "cell_type": "code",
   "execution_count": null,
   "id": "44e7611c",
   "metadata": {},
   "outputs": [],
   "source": []
  }
 ],
 "metadata": {
  "kernelspec": {
   "display_name": "Python 3 (ipykernel)",
   "language": "python",
   "name": "python3"
  },
  "language_info": {
   "codemirror_mode": {
    "name": "ipython",
    "version": 3
   },
   "file_extension": ".py",
   "mimetype": "text/x-python",
   "name": "python",
   "nbconvert_exporter": "python",
   "pygments_lexer": "ipython3",
   "version": "3.8.13"
  }
 },
 "nbformat": 4,
 "nbformat_minor": 5
}
